{
  "nbformat": 4,
  "nbformat_minor": 0,
  "metadata": {
    "colab": {
      "provenance": []
    },
    "kernelspec": {
      "name": "python3",
      "display_name": "Python 3"
    },
    "language_info": {
      "name": "python"
    }
  },
  "cells": [
    {
      "cell_type": "code",
      "execution_count": 2,
      "metadata": {
        "colab": {
          "base_uri": "https://localhost:8080/"
        },
        "id": "-vAv4XS7gEhb",
        "outputId": "2e85c260-13e5-497b-d7c6-a6f61f964dcf"
      },
      "outputs": [
        {
          "output_type": "stream",
          "name": "stdout",
          "text": [
            "Requirement already satisfied: tensorflow in /usr/local/lib/python3.10/dist-packages (2.17.0)\n",
            "Requirement already satisfied: absl-py>=1.0.0 in /usr/local/lib/python3.10/dist-packages (from tensorflow) (1.4.0)\n",
            "Requirement already satisfied: astunparse>=1.6.0 in /usr/local/lib/python3.10/dist-packages (from tensorflow) (1.6.3)\n",
            "Requirement already satisfied: flatbuffers>=24.3.25 in /usr/local/lib/python3.10/dist-packages (from tensorflow) (24.3.25)\n",
            "Requirement already satisfied: gast!=0.5.0,!=0.5.1,!=0.5.2,>=0.2.1 in /usr/local/lib/python3.10/dist-packages (from tensorflow) (0.6.0)\n",
            "Requirement already satisfied: google-pasta>=0.1.1 in /usr/local/lib/python3.10/dist-packages (from tensorflow) (0.2.0)\n",
            "Requirement already satisfied: h5py>=3.10.0 in /usr/local/lib/python3.10/dist-packages (from tensorflow) (3.11.0)\n",
            "Requirement already satisfied: libclang>=13.0.0 in /usr/local/lib/python3.10/dist-packages (from tensorflow) (18.1.1)\n",
            "Requirement already satisfied: ml-dtypes<0.5.0,>=0.3.1 in /usr/local/lib/python3.10/dist-packages (from tensorflow) (0.4.1)\n",
            "Requirement already satisfied: opt-einsum>=2.3.2 in /usr/local/lib/python3.10/dist-packages (from tensorflow) (3.4.0)\n",
            "Requirement already satisfied: packaging in /usr/local/lib/python3.10/dist-packages (from tensorflow) (24.1)\n",
            "Requirement already satisfied: protobuf!=4.21.0,!=4.21.1,!=4.21.2,!=4.21.3,!=4.21.4,!=4.21.5,<5.0.0dev,>=3.20.3 in /usr/local/lib/python3.10/dist-packages (from tensorflow) (3.20.3)\n",
            "Requirement already satisfied: requests<3,>=2.21.0 in /usr/local/lib/python3.10/dist-packages (from tensorflow) (2.32.3)\n",
            "Requirement already satisfied: setuptools in /usr/local/lib/python3.10/dist-packages (from tensorflow) (75.1.0)\n",
            "Requirement already satisfied: six>=1.12.0 in /usr/local/lib/python3.10/dist-packages (from tensorflow) (1.16.0)\n",
            "Requirement already satisfied: termcolor>=1.1.0 in /usr/local/lib/python3.10/dist-packages (from tensorflow) (2.5.0)\n",
            "Requirement already satisfied: typing-extensions>=3.6.6 in /usr/local/lib/python3.10/dist-packages (from tensorflow) (4.12.2)\n",
            "Requirement already satisfied: wrapt>=1.11.0 in /usr/local/lib/python3.10/dist-packages (from tensorflow) (1.16.0)\n",
            "Requirement already satisfied: grpcio<2.0,>=1.24.3 in /usr/local/lib/python3.10/dist-packages (from tensorflow) (1.64.1)\n",
            "Requirement already satisfied: tensorboard<2.18,>=2.17 in /usr/local/lib/python3.10/dist-packages (from tensorflow) (2.17.0)\n",
            "Requirement already satisfied: keras>=3.2.0 in /usr/local/lib/python3.10/dist-packages (from tensorflow) (3.4.1)\n",
            "Requirement already satisfied: tensorflow-io-gcs-filesystem>=0.23.1 in /usr/local/lib/python3.10/dist-packages (from tensorflow) (0.37.1)\n",
            "Requirement already satisfied: numpy<2.0.0,>=1.23.5 in /usr/local/lib/python3.10/dist-packages (from tensorflow) (1.26.4)\n",
            "Requirement already satisfied: wheel<1.0,>=0.23.0 in /usr/local/lib/python3.10/dist-packages (from astunparse>=1.6.0->tensorflow) (0.44.0)\n",
            "Requirement already satisfied: rich in /usr/local/lib/python3.10/dist-packages (from keras>=3.2.0->tensorflow) (13.9.2)\n",
            "Requirement already satisfied: namex in /usr/local/lib/python3.10/dist-packages (from keras>=3.2.0->tensorflow) (0.0.8)\n",
            "Requirement already satisfied: optree in /usr/local/lib/python3.10/dist-packages (from keras>=3.2.0->tensorflow) (0.13.0)\n",
            "Requirement already satisfied: charset-normalizer<4,>=2 in /usr/local/lib/python3.10/dist-packages (from requests<3,>=2.21.0->tensorflow) (3.4.0)\n",
            "Requirement already satisfied: idna<4,>=2.5 in /usr/local/lib/python3.10/dist-packages (from requests<3,>=2.21.0->tensorflow) (3.10)\n",
            "Requirement already satisfied: urllib3<3,>=1.21.1 in /usr/local/lib/python3.10/dist-packages (from requests<3,>=2.21.0->tensorflow) (2.2.3)\n",
            "Requirement already satisfied: certifi>=2017.4.17 in /usr/local/lib/python3.10/dist-packages (from requests<3,>=2.21.0->tensorflow) (2024.8.30)\n",
            "Requirement already satisfied: markdown>=2.6.8 in /usr/local/lib/python3.10/dist-packages (from tensorboard<2.18,>=2.17->tensorflow) (3.7)\n",
            "Requirement already satisfied: tensorboard-data-server<0.8.0,>=0.7.0 in /usr/local/lib/python3.10/dist-packages (from tensorboard<2.18,>=2.17->tensorflow) (0.7.2)\n",
            "Requirement already satisfied: werkzeug>=1.0.1 in /usr/local/lib/python3.10/dist-packages (from tensorboard<2.18,>=2.17->tensorflow) (3.0.4)\n",
            "Requirement already satisfied: MarkupSafe>=2.1.1 in /usr/local/lib/python3.10/dist-packages (from werkzeug>=1.0.1->tensorboard<2.18,>=2.17->tensorflow) (3.0.1)\n",
            "Requirement already satisfied: markdown-it-py>=2.2.0 in /usr/local/lib/python3.10/dist-packages (from rich->keras>=3.2.0->tensorflow) (3.0.0)\n",
            "Requirement already satisfied: pygments<3.0.0,>=2.13.0 in /usr/local/lib/python3.10/dist-packages (from rich->keras>=3.2.0->tensorflow) (2.18.0)\n",
            "Requirement already satisfied: mdurl~=0.1 in /usr/local/lib/python3.10/dist-packages (from markdown-it-py>=2.2.0->rich->keras>=3.2.0->tensorflow) (0.1.2)\n"
          ]
        }
      ],
      "source": [
        "#Import libraries\n",
        "!pip install tensorflow\n",
        "import tensorflow as tf"
      ]
    },
    {
      "cell_type": "code",
      "source": [
        "!pip install keras"
      ],
      "metadata": {
        "colab": {
          "base_uri": "https://localhost:8080/"
        },
        "id": "nSH9tWs4gJyt",
        "outputId": "097a3358-5329-4c85-fc5c-9eddf70c8c74"
      },
      "execution_count": 1,
      "outputs": [
        {
          "output_type": "stream",
          "name": "stdout",
          "text": [
            "Requirement already satisfied: keras in /usr/local/lib/python3.10/dist-packages (3.4.1)\n",
            "Requirement already satisfied: absl-py in /usr/local/lib/python3.10/dist-packages (from keras) (1.4.0)\n",
            "Requirement already satisfied: numpy in /usr/local/lib/python3.10/dist-packages (from keras) (1.26.4)\n",
            "Requirement already satisfied: rich in /usr/local/lib/python3.10/dist-packages (from keras) (13.9.2)\n",
            "Requirement already satisfied: namex in /usr/local/lib/python3.10/dist-packages (from keras) (0.0.8)\n",
            "Requirement already satisfied: h5py in /usr/local/lib/python3.10/dist-packages (from keras) (3.11.0)\n",
            "Requirement already satisfied: optree in /usr/local/lib/python3.10/dist-packages (from keras) (0.13.0)\n",
            "Requirement already satisfied: ml-dtypes in /usr/local/lib/python3.10/dist-packages (from keras) (0.4.1)\n",
            "Requirement already satisfied: packaging in /usr/local/lib/python3.10/dist-packages (from keras) (24.1)\n",
            "Requirement already satisfied: typing-extensions>=4.5.0 in /usr/local/lib/python3.10/dist-packages (from optree->keras) (4.12.2)\n",
            "Requirement already satisfied: markdown-it-py>=2.2.0 in /usr/local/lib/python3.10/dist-packages (from rich->keras) (3.0.0)\n",
            "Requirement already satisfied: pygments<3.0.0,>=2.13.0 in /usr/local/lib/python3.10/dist-packages (from rich->keras) (2.18.0)\n",
            "Requirement already satisfied: mdurl~=0.1 in /usr/local/lib/python3.10/dist-packages (from markdown-it-py>=2.2.0->rich->keras) (0.1.2)\n"
          ]
        }
      ]
    },
    {
      "cell_type": "code",
      "source": [
        "import keras\n",
        "from keras.models import Sequential\n",
        "from keras.layers import Dense, Dropout, Flatten, Conv2D, MaxPooling2D"
      ],
      "metadata": {
        "id": "8XAIm1LygYz7"
      },
      "execution_count": 3,
      "outputs": []
    },
    {
      "cell_type": "code",
      "source": [
        "from tensorflow.keras.preprocessing.image import ImageDataGenerator"
      ],
      "metadata": {
        "id": "F1RyqyFlgiTP"
      },
      "execution_count": 4,
      "outputs": []
    },
    {
      "cell_type": "code",
      "source": [
        "#instantiate the CNN\n",
        "classifier = Sequential()\n",
        "#Convolution\n",
        "classifier.add(Conv2D(32, (3, 3), input_shape=(64, 64, 3), activation='relu'))\n",
        "\n",
        "#pooling\n",
        "classifier.add(MaxPooling2D(pool_size=(2, 2)))\n",
        "#flatening\n",
        "classifier.add(Flatten())\n",
        "#full connection\n",
        "classifier.add(Dense(units=128, activation='relu'))\n",
        "classifier.add(Dense(units=1, activation='sigmoid'))\n",
        "#compiling CNN\n",
        "classifier.compile(optimizer='adam', loss='binary_crossentropy', metrics=['accuracy'])"
      ],
      "metadata": {
        "colab": {
          "base_uri": "https://localhost:8080/"
        },
        "id": "l8ds_NRSgpWd",
        "outputId": "bf6c7631-1948-41ab-fbaa-1223f8a77bea"
      },
      "execution_count": 5,
      "outputs": [
        {
          "output_type": "stream",
          "name": "stderr",
          "text": [
            "/usr/local/lib/python3.10/dist-packages/keras/src/layers/convolutional/base_conv.py:107: UserWarning: Do not pass an `input_shape`/`input_dim` argument to a layer. When using Sequential models, prefer using an `Input(shape)` object as the first layer in the model instead.\n",
            "  super().__init__(activity_regularizer=activity_regularizer, **kwargs)\n"
          ]
        }
      ]
    },
    {
      "cell_type": "code",
      "source": [
        "# Fitting the CNN to the images\n",
        "#Instead of importing from keras.preprocessing.image import ImageDataGenerator,\n",
        "# import it from tensorflow.keras.preprocessing.image\n",
        "from tensorflow.keras.preprocessing.image import ImageDataGenerator\n",
        "\n",
        "#ImageData should be ImageDataGenerator\n",
        "train_datagen = ImageDataGenerator(rescale=1./255, shear_range=0.2, zoom_range=0.2, horizontal_flip=True)\n",
        "test_datagen = ImageDataGenerator(rescale=1./255)\n",
        "\n",
        "# Update the paths to your dataset directory\n",
        "!unzip /content/Training.zip\n",
        "!unzip /content/Test.zip\n",
        "# Ensure the path is correct and the directories exist\n",
        "training_set = train_datagen.flow_from_directory(\n",
        "    \"/content/Training\", # Or your corrected absolute path\n",
        "    target_size=(64,64),\n",
        "    batch_size=32,\n",
        "    class_mode='binary'\n",
        ")\n",
        "test_set = test_datagen.flow_from_directory(\n",
        "    \"/content/Test\", # Or your corrected absolute path\n",
        "    target_size=(64,64),\n",
        "    batch_size=32,\n",
        "    class_mode='binary'\n",
        ")"
      ],
      "metadata": {
        "colab": {
          "base_uri": "https://localhost:8080/"
        },
        "id": "r-b5q5jVgv-a",
        "outputId": "107895e5-dce5-4cc2-c3d8-4d084969606a"
      },
      "execution_count": 6,
      "outputs": [
        {
          "output_type": "stream",
          "name": "stdout",
          "text": [
            "Archive:  /content/Training.zip\n",
            "   creating: Training/\n",
            "   creating: Training/Pravin/\n",
            "  inflating: Training/Pravin/Screenshot 2024-10-20 202014.png  \n",
            "  inflating: Training/Pravin/Screenshot 2024-10-20 202038.png  \n",
            "  inflating: Training/Pravin/Screenshot 2024-10-20 202049.png  \n",
            "  inflating: Training/Pravin/Screenshot 2024-10-20 202059.png  \n",
            "  inflating: Training/Pravin/Screenshot 2024-10-20 202111.png  \n",
            "  inflating: Training/Pravin/Screenshot 2024-10-20 202130.png  \n",
            "  inflating: Training/Pravin/Screenshot 2024-10-20 202149.png  \n",
            "  inflating: Training/Pravin/Screenshot 2024-10-20 202207.png  \n",
            "  inflating: Training/Pravin/Screenshot 2024-10-20 202529.png  \n",
            "  inflating: Training/Pravin/Screenshot 2024-10-20 202550.png  \n",
            "  inflating: Training/Pravin/Screenshot 2024-10-20 202600.png  \n",
            "   creating: Training/Tito/\n",
            "  inflating: Training/Tito/Screenshot 2024-10-20 192254.png  \n",
            "  inflating: Training/Tito/Screenshot 2024-10-20 192338.png  \n",
            "  inflating: Training/Tito/Screenshot 2024-10-20 192400.png  \n",
            "  inflating: Training/Tito/Screenshot 2024-10-20 192429.png  \n",
            "  inflating: Training/Tito/Screenshot 2024-10-20 192632.png  \n",
            "  inflating: Training/Tito/Screenshot 2024-10-20 192646.png  \n",
            "  inflating: Training/Tito/Screenshot 2024-10-20 192700.png  \n",
            "  inflating: Training/Tito/Screenshot 2024-10-20 192747.png  \n",
            "  inflating: Training/Tito/Screenshot 2024-10-20 192802.png  \n",
            "  inflating: Training/Tito/Screenshot 2024-10-20 192820.png  \n",
            "  inflating: Training/Tito/Screenshot 2024-10-20 192852.png  \n",
            "  inflating: Training/Tito/Screenshot 2024-10-20 192921.png  \n",
            "  inflating: Training/Tito/Screenshot 2024-10-20 192936.png  \n",
            "  inflating: Training/Tito/Screenshot 2024-10-20 193012.png  \n",
            "  inflating: Training/Tito/Screenshot 2024-10-20 193046.png  \n",
            "  inflating: Training/Tito/Screenshot 2024-10-20 193058.png  \n",
            "  inflating: Training/Tito/Screenshot 2024-10-20 193127.png  \n",
            "  inflating: Training/Tito/Screenshot 2024-10-20 193211.png  \n",
            "  inflating: Training/Tito/Screenshot 2024-10-20 193223.png  \n",
            "  inflating: Training/Tito/Screenshot 2024-10-20 193243.png  \n",
            "  inflating: Training/Tito/Screenshot 2024-10-20 193258.png  \n",
            "  inflating: Training/Tito/Screenshot 2024-10-20 193314.png  \n",
            "  inflating: Training/Tito/Screenshot 2024-10-20 193333.png  \n",
            "  inflating: Training/Tito/Screenshot 2024-10-20 193346.png  \n",
            "  inflating: Training/Tito/Screenshot 2024-10-20 193402.png  \n",
            "  inflating: Training/Tito/Screenshot 2024-10-20 193442.png  \n",
            "  inflating: Training/Tito/Screenshot 2024-10-20 193502.png  \n",
            "  inflating: Training/Tito/Screenshot 2024-10-20 193513.png  \n",
            "  inflating: Training/Tito/Screenshot 2024-10-20 193541.png  \n",
            "  inflating: Training/Tito/Screenshot 2024-10-20 193554.png  \n",
            "  inflating: Training/Tito/Screenshot 2024-10-20 193606.png  \n",
            "  inflating: Training/Tito/Screenshot 2024-10-20 193618.png  \n",
            "  inflating: Training/Tito/Screenshot 2024-10-20 193647.png  \n",
            "  inflating: Training/Tito/Screenshot 2024-10-20 193704.png  \n",
            "  inflating: Training/Tito/Screenshot 2024-10-20 193717.png  \n",
            "  inflating: Training/Tito/Screenshot 2024-10-20 193759.png  \n",
            "  inflating: Training/Tito/Screenshot 2024-10-20 193926.png  \n",
            "  inflating: Training/Tito/Screenshot 2024-10-20 193951.png  \n",
            "  inflating: Training/Tito/Screenshot 2024-10-20 194002.png  \n",
            "  inflating: Training/Tito/Screenshot 2024-10-20 194015.png  \n",
            "  inflating: Training/Tito/Screenshot 2024-10-20 194036.png  \n",
            "  inflating: Training/Tito/Screenshot 2024-10-20 194047.png  \n",
            "  inflating: Training/Tito/Screenshot 2024-10-20 194109.png  \n",
            "  inflating: Training/Tito/Screenshot 2024-10-20 194121.png  \n",
            "  inflating: Training/Tito/Screenshot 2024-10-20 194143.png  \n",
            "  inflating: Training/Tito/Screenshot 2024-10-20 194208.png  \n",
            "  inflating: Training/Tito/Screenshot 2024-10-20 194229.png  \n",
            "  inflating: Training/Tito/Screenshot 2024-10-20 194241.png  \n",
            "  inflating: Training/Tito/Screenshot 2024-10-20 194254.png  \n",
            "  inflating: Training/Tito/Screenshot 2024-10-20 194324.png  \n",
            "  inflating: Training/Tito/Screenshot 2024-10-20 194335.png  \n",
            "  inflating: Training/Tito/Screenshot 2024-10-20 194346.png  \n",
            "  inflating: Training/Tito/Screenshot 2024-10-20 194401.png  \n",
            "  inflating: Training/Tito/Screenshot 2024-10-20 194411.png  \n",
            "  inflating: Training/Tito/Screenshot 2024-10-20 194443.png  \n",
            "  inflating: Training/Tito/Screenshot 2024-10-20 194454.png  \n",
            "Archive:  /content/Test.zip\n",
            "   creating: Test/\n",
            "   creating: Test/Pravin/\n",
            "  inflating: Test/Pravin/Screenshot 2024-10-20 202218.png  \n",
            "  inflating: Test/Pravin/Screenshot 2024-10-20 202235.png  \n",
            "  inflating: Test/Pravin/Screenshot 2024-10-20 202444.png  \n",
            "  inflating: Test/Pravin/Screenshot 2024-10-20 202501.png  \n",
            "  inflating: Test/Pravin/Screenshot 2024-10-20 202612.png  \n",
            "  inflating: Test/Pravin/Screenshot 2024-10-20 202622.png  \n",
            "   creating: Test/Tito/\n",
            "  inflating: Test/Tito/Screenshot 2024-10-20 193849.png  \n",
            "  inflating: Test/Tito/Screenshot 2024-10-20 193917.png  \n",
            "  inflating: Test/Tito/Screenshot 2024-10-20 193938.png  \n",
            "  inflating: Test/Tito/Screenshot 2024-10-20 194058.png  \n",
            "  inflating: Test/Tito/Screenshot 2024-10-20 194133.png  \n",
            "Found 67 images belonging to 2 classes.\n",
            "Found 11 images belonging to 2 classes.\n"
          ]
        }
      ]
    },
    {
      "cell_type": "code",
      "source": [
        "!pip install Ipython"
      ],
      "metadata": {
        "colab": {
          "base_uri": "https://localhost:8080/"
        },
        "id": "DPKY-8vIgy6E",
        "outputId": "76ea8055-8803-4d4e-ffad-661e695d1137"
      },
      "execution_count": 7,
      "outputs": [
        {
          "output_type": "stream",
          "name": "stdout",
          "text": [
            "Requirement already satisfied: Ipython in /usr/local/lib/python3.10/dist-packages (7.34.0)\n",
            "Requirement already satisfied: setuptools>=18.5 in /usr/local/lib/python3.10/dist-packages (from Ipython) (75.1.0)\n",
            "Collecting jedi>=0.16 (from Ipython)\n",
            "  Downloading jedi-0.19.1-py2.py3-none-any.whl.metadata (22 kB)\n",
            "Requirement already satisfied: decorator in /usr/local/lib/python3.10/dist-packages (from Ipython) (4.4.2)\n",
            "Requirement already satisfied: pickleshare in /usr/local/lib/python3.10/dist-packages (from Ipython) (0.7.5)\n",
            "Requirement already satisfied: traitlets>=4.2 in /usr/local/lib/python3.10/dist-packages (from Ipython) (5.7.1)\n",
            "Requirement already satisfied: prompt-toolkit!=3.0.0,!=3.0.1,<3.1.0,>=2.0.0 in /usr/local/lib/python3.10/dist-packages (from Ipython) (3.0.48)\n",
            "Requirement already satisfied: pygments in /usr/local/lib/python3.10/dist-packages (from Ipython) (2.18.0)\n",
            "Requirement already satisfied: backcall in /usr/local/lib/python3.10/dist-packages (from Ipython) (0.2.0)\n",
            "Requirement already satisfied: matplotlib-inline in /usr/local/lib/python3.10/dist-packages (from Ipython) (0.1.7)\n",
            "Requirement already satisfied: pexpect>4.3 in /usr/local/lib/python3.10/dist-packages (from Ipython) (4.9.0)\n",
            "Requirement already satisfied: parso<0.9.0,>=0.8.3 in /usr/local/lib/python3.10/dist-packages (from jedi>=0.16->Ipython) (0.8.4)\n",
            "Requirement already satisfied: ptyprocess>=0.5 in /usr/local/lib/python3.10/dist-packages (from pexpect>4.3->Ipython) (0.7.0)\n",
            "Requirement already satisfied: wcwidth in /usr/local/lib/python3.10/dist-packages (from prompt-toolkit!=3.0.0,!=3.0.1,<3.1.0,>=2.0.0->Ipython) (0.2.13)\n",
            "Downloading jedi-0.19.1-py2.py3-none-any.whl (1.6 MB)\n",
            "\u001b[2K   \u001b[90m━━━━━━━━━━━━━━━━━━━━━━━━━━━━━━━━━━━━━━━━\u001b[0m \u001b[32m1.6/1.6 MB\u001b[0m \u001b[31m28.6 MB/s\u001b[0m eta \u001b[36m0:00:00\u001b[0m\n",
            "\u001b[?25hInstalling collected packages: jedi\n",
            "Successfully installed jedi-0.19.1\n"
          ]
        }
      ]
    },
    {
      "cell_type": "code",
      "source": [
        "# For displaying images, you can use the following:\n",
        "from IPython.display import Image\n",
        "from PIL import Image\n",
        "\n",
        "# or matplotlib if it's installed\n",
        "import matplotlib.pyplot as plt\n",
        "# ... and then to display the PIL Image named \"my_image\":\n",
        "# plt.imshow(my_image)\n",
        "# plt.show()\n",
        "\n",
        "# The rest of the code remains the same, except we replace fit_generator with fit\n",
        "# Instead of classifier.fit, use model.fit since 'model' is the name of your Keras model\n",
        "classifier.fit( # Use fit instead of fit_generator\n",
        "    training_set,\n",
        "    steps_per_epoch=8000,\n",
        "    epochs=10,\n",
        "    validation_data=test_set,\n",
        "    validation_steps=800\n",
        ")"
      ],
      "metadata": {
        "colab": {
          "base_uri": "https://localhost:8080/"
        },
        "id": "to4vp-wOg8_g",
        "outputId": "45df9e42-cb94-424d-c971-73326ba0e75b"
      },
      "execution_count": 9,
      "outputs": [
        {
          "output_type": "stream",
          "name": "stdout",
          "text": [
            "Epoch 1/10\n"
          ]
        },
        {
          "output_type": "stream",
          "name": "stderr",
          "text": [
            "/usr/local/lib/python3.10/dist-packages/keras/src/trainers/data_adapters/py_dataset_adapter.py:121: UserWarning: Your `PyDataset` class should call `super().__init__(**kwargs)` in its constructor. `**kwargs` can include `workers`, `use_multiprocessing`, `max_queue_size`. Do not pass these arguments to `fit()`, as they will be ignored.\n",
            "  self._warn_if_super_not_called()\n"
          ]
        },
        {
          "output_type": "stream",
          "name": "stdout",
          "text": [
            "\u001b[1m   3/8000\u001b[0m \u001b[37m━━━━━━━━━━━━━━━━━━━━\u001b[0m \u001b[1m15:17\u001b[0m 115ms/step - accuracy: 0.6419 - loss: 0.7923"
          ]
        },
        {
          "output_type": "stream",
          "name": "stderr",
          "text": [
            "/usr/lib/python3.10/contextlib.py:153: UserWarning: Your input ran out of data; interrupting training. Make sure that your dataset or generator can generate at least `steps_per_epoch * epochs` batches. You may need to use the `.repeat()` function when building your dataset.\n",
            "  self.gen.throw(typ, value, traceback)\n"
          ]
        },
        {
          "output_type": "stream",
          "name": "stdout",
          "text": [
            "\b\b\b\b\b\b\b\b\b\b\b\b\b\b\b\b\b\b\b\b\b\b\b\b\b\b\b\b\b\b\b\b\b\b\b\b\b\b\b\b\b\b\b\b\b\b\b\b\b\b\b\b\b\b\b\b\b\b\b\b\b\b\b\b\b\b\b\b\b\b\b\b\b\b\b\b\b\b\b\b\b\r\u001b[1m8000/8000\u001b[0m \u001b[32m━━━━━━━━━━━━━━━━━━━━\u001b[0m\u001b[37m\u001b[0m \u001b[1m3s\u001b[0m 75us/step - accuracy: 0.8208 - loss: 0.7675 - val_accuracy: 0.4545 - val_loss: 0.7098\n",
            "Epoch 2/10\n",
            "\u001b[1m8000/8000\u001b[0m \u001b[32m━━━━━━━━━━━━━━━━━━━━\u001b[0m\u001b[37m\u001b[0m \u001b[1m1s\u001b[0m 42us/step - accuracy: 0.6716 - loss: 0.6372 - val_accuracy: 0.4545 - val_loss: 1.9718\n",
            "Epoch 3/10\n",
            "\u001b[1m8000/8000\u001b[0m \u001b[32m━━━━━━━━━━━━━━━━━━━━\u001b[0m\u001b[37m\u001b[0m \u001b[1m1s\u001b[0m 41us/step - accuracy: 0.8358 - loss: 0.5862 - val_accuracy: 0.4545 - val_loss: 1.7518\n",
            "Epoch 4/10\n",
            "\u001b[1m8000/8000\u001b[0m \u001b[32m━━━━━━━━━━━━━━━━━━━━\u001b[0m\u001b[37m\u001b[0m \u001b[1m1s\u001b[0m 43us/step - accuracy: 0.8806 - loss: 0.3744 - val_accuracy: 0.5455 - val_loss: 1.1023\n",
            "Epoch 5/10\n",
            "\u001b[1m8000/8000\u001b[0m \u001b[32m━━━━━━━━━━━━━━━━━━━━\u001b[0m\u001b[37m\u001b[0m \u001b[1m1s\u001b[0m 36us/step - accuracy: 0.9254 - loss: 0.3281 - val_accuracy: 0.4545 - val_loss: 1.8618\n",
            "Epoch 6/10\n",
            "\u001b[1m8000/8000\u001b[0m \u001b[32m━━━━━━━━━━━━━━━━━━━━\u001b[0m\u001b[37m\u001b[0m \u001b[1m2s\u001b[0m 52us/step - accuracy: 0.8508 - loss: 0.3405 - val_accuracy: 0.4545 - val_loss: 2.5110\n",
            "Epoch 7/10\n",
            "\u001b[1m8000/8000\u001b[0m \u001b[32m━━━━━━━━━━━━━━━━━━━━\u001b[0m\u001b[37m\u001b[0m \u001b[1m2s\u001b[0m 75us/step - accuracy: 0.8358 - loss: 0.3608 - val_accuracy: 0.5455 - val_loss: 1.6389\n",
            "Epoch 8/10\n",
            "\u001b[1m8000/8000\u001b[0m \u001b[32m━━━━━━━━━━━━━━━━━━━━\u001b[0m\u001b[37m\u001b[0m \u001b[1m1s\u001b[0m 41us/step - accuracy: 0.9105 - loss: 0.3049 - val_accuracy: 0.6364 - val_loss: 1.4193\n",
            "Epoch 9/10\n",
            "\u001b[1m8000/8000\u001b[0m \u001b[32m━━━━━━━━━━━━━━━━━━━━\u001b[0m\u001b[37m\u001b[0m \u001b[1m1s\u001b[0m 37us/step - accuracy: 0.9104 - loss: 0.3006 - val_accuracy: 0.6364 - val_loss: 1.5552\n",
            "Epoch 10/10\n",
            "\u001b[1m8000/8000\u001b[0m \u001b[32m━━━━━━━━━━━━━━━━━━━━\u001b[0m\u001b[37m\u001b[0m \u001b[1m1s\u001b[0m 34us/step - accuracy: 0.8955 - loss: 0.2735 - val_accuracy: 0.5455 - val_loss: 2.2474\n"
          ]
        },
        {
          "output_type": "execute_result",
          "data": {
            "text/plain": [
              "<keras.src.callbacks.history.History at 0x7d9222fe9210>"
            ]
          },
          "metadata": {},
          "execution_count": 9
        }
      ]
    },
    {
      "cell_type": "code",
      "source": [
        "import numpy as np\n",
        "from keras.preprocessing import image\n",
        "test_image = image.load_img('/content/Tito.png', target_size=(64,64))\n",
        "test_image = image.img_to_array(test_image)\n",
        "test_image = np.expand_dims(test_image, axis=0)\n",
        "result = classifier.predict(test_image)\n",
        "training_set.class_indices\n",
        "if result[0][0] == 1:\n",
        "  prediction = 'Tito'\n",
        "else:\n",
        "  prediction = 'Pravin'\n",
        "\n",
        "print(prediction)"
      ],
      "metadata": {
        "colab": {
          "base_uri": "https://localhost:8080/"
        },
        "id": "l4dt4hPDhd6c",
        "outputId": "83786701-19ef-42be-c978-1fa503f753c9"
      },
      "execution_count": 14,
      "outputs": [
        {
          "output_type": "stream",
          "name": "stdout",
          "text": [
            "\u001b[1m1/1\u001b[0m \u001b[32m━━━━━━━━━━━━━━━━━━━━\u001b[0m\u001b[37m\u001b[0m \u001b[1m0s\u001b[0m 24ms/step\n",
            "Tito\n"
          ]
        }
      ]
    },
    {
      "cell_type": "markdown",
      "source": [
        "The code succesfully predicted the random image as that of Tito Mboweni"
      ],
      "metadata": {
        "id": "pC-V0bolhgg3"
      }
    }
  ]
}